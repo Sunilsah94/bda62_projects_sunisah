{
 "cells": [
  {
   "cell_type": "markdown",
   "id": "01aa94de",
   "metadata": {},
   "source": [
    "**IMDB PROJECT**"
   ]
  },
  {
   "cell_type": "code",
   "execution_count": 1,
   "id": "19e04efc",
   "metadata": {},
   "outputs": [
    {
     "name": "stderr",
     "output_type": "stream",
     "text": [
      "Matplotlib is building the font cache; this may take a moment.\n"
     ]
    }
   ],
   "source": [
    "# import dependencies required for the project\n",
    "import requests                    # Used to send HTTP requests to the website\n",
    "from bs4 import BeautifulSoup      # Used to parse and navigate through HTML content\n",
    "import pandas as pd                # Used to create a DataFrame and handle data manipulation\n",
    "import json                        # Used to work with JSON data\n",
    " \n",
    "import matplotlib.pyplot as plt   # Used to plot charts"
   ]
  },
  {
   "cell_type": "markdown",
   "id": "f89db1fd",
   "metadata": {},
   "source": [
    "**STEP 1: FETCHING MOVIES FROM URL**"
   ]
  },
  {
   "cell_type": "code",
   "execution_count": 2,
   "id": "7c5bed40",
   "metadata": {},
   "outputs": [],
   "source": [
    "# Define URL of the IMDb chart for top rated movies\n",
    "url = \"https://www.imdb.com/chart/top/\"\n",
    "headers = {\n",
    "    'User-Agent': 'Mozilla/5.0 (Windows NT 10.0; Win64; x64) AppleWebKit/537.36 (KHTML, like Gecko) Chrome/91.0.4472.124 Safari/537.36'\n",
    "}"
   ]
  },
  {
   "cell_type": "code",
   "execution_count": 3,
   "id": "b8453e47",
   "metadata": {},
   "outputs": [],
   "source": [
    "# Send a GET request to fetch the webpage content\n",
    "response = requests.get(url, headers=headers)"
   ]
  },
  {
   "cell_type": "code",
   "execution_count": 4,
   "id": "169787d3",
   "metadata": {},
   "outputs": [
    {
     "data": {
      "text/plain": [
       "<Response [200]>"
      ]
     },
     "execution_count": 4,
     "metadata": {},
     "output_type": "execute_result"
    }
   ],
   "source": [
    "response\n"
   ]
  },
  {
   "cell_type": "markdown",
   "id": "632e5494",
   "metadata": {},
   "source": [
    "**STEP 2: PARSE THE HTML CONTENT USING BEAUTIFULSOUP**"
   ]
  },
  {
   "cell_type": "code",
   "execution_count": 5,
   "id": "632690e4",
   "metadata": {},
   "outputs": [],
   "source": [
    "soup = BeautifulSoup(response.text, 'html.parser')"
   ]
  },
  {
   "cell_type": "markdown",
   "id": "a01dae31",
   "metadata": {},
   "source": [
    "**STEP 3: EXTRACT JSON STRUCTURED DATA CONTAINING MOVIE TITLES**"
   ]
  },
  {
   "cell_type": "code",
   "execution_count": 6,
   "id": "3550252a",
   "metadata": {},
   "outputs": [],
   "source": [
    "script_tag = soup.find('script', type='application/ld+json')\n",
    "if script_tag:\n",
    "    # Convert the JSON data (string) into a Python dictionary\n",
    "    data = json.loads(script_tag.string)"
   ]
  },
  {
   "cell_type": "markdown",
   "id": "781be8c2",
   "metadata": {},
   "source": [
    "**STEP 4: EXTRACT MOVIE DETAILS**"
   ]
  },
  {
   "cell_type": "code",
   "execution_count": 7,
   "id": "bf2610d2",
   "metadata": {},
   "outputs": [],
   "source": [
    "# Initialize the lists to hold relevant details\n",
    "titles = []\n",
    "durations = []\n",
    "urls = []\n",
    "descriptions = []\n",
    "rating_values = []"
   ]
  },
  {
   "cell_type": "code",
   "execution_count": 8,
   "id": "29192ef6",
   "metadata": {},
   "outputs": [],
   "source": [
    "if 'itemListElement' in data:\n",
    "\n",
    "    # Loop through each movie in the 'itemListElement'\n",
    "\n",
    "    for item in data['itemListElement']:\n",
    "\n",
    "        # Access the individual movie data inside 'item'\n",
    "\n",
    "        movie = item['item']\n",
    "\n",
    "        # Extract movie details and append them to the corresponding lists\n",
    "\n",
    "        # If a specific field is missing, we use 'N/A' as a fallback\n",
    "\n",
    "        titles.append(movie.get('name', 'N/A'))  # Movie title\n",
    "\n",
    "        durations.append(movie.get('duration', 'N/A'))  # Movie duration\n",
    "\n",
    "        urls.append(movie.get('url', 'N/A'))     # IMDb page URL\n",
    "\n",
    "        descriptions.append(movie.get('description', 'N/A'))  # Movie description                \n",
    "\n",
    "        rating_values.append(movie.get('aggregateRating', {}).get('ratingValue', 'N/A'))  # Current movie rating\n",
    "\n",
    "# Creating pandas dataframe to store the extracted data\n",
    "\n",
    "df = pd.DataFrame({\n",
    "\n",
    "    'Title': titles,              # Column for movie titles\n",
    "\n",
    "    'Duration': durations,         # Column for the movie's duration \n",
    "\n",
    "    'URL': urls,                  # Column for IMDb URLs\n",
    "\n",
    "    'Description': descriptions,  # Column for movie descriptions \n",
    "\n",
    "    'Rating Value': rating_values # Column for the actual user rating   \n",
    "\n",
    "})\n",
    "\n",
    " "
   ]
  },
  {
   "cell_type": "code",
   "execution_count": 9,
   "id": "032ffd54",
   "metadata": {},
   "outputs": [
    {
     "name": "stdout",
     "output_type": "stream",
     "text": [
      "Data saved as 'scrapped_IMDBmovies.csv'\n"
     ]
    }
   ],
   "source": [
    "# Save the DataFrame to a CSV file\n",
    "df.to_csv('scrapped_IMDBmovies.csv', index=False)  # index=False means we do not save the index column\n",
    "print(\"Data saved as 'scrapped_IMDBmovies.csv'\")"
   ]
  },
  {
   "cell_type": "code",
   "execution_count": 10,
   "id": "68b32c54",
   "metadata": {},
   "outputs": [
    {
     "data": {
      "text/html": [
       "<div>\n",
       "<style scoped>\n",
       "    .dataframe tbody tr th:only-of-type {\n",
       "        vertical-align: middle;\n",
       "    }\n",
       "\n",
       "    .dataframe tbody tr th {\n",
       "        vertical-align: top;\n",
       "    }\n",
       "\n",
       "    .dataframe thead th {\n",
       "        text-align: right;\n",
       "    }\n",
       "</style>\n",
       "<table border=\"1\" class=\"dataframe\">\n",
       "  <thead>\n",
       "    <tr style=\"text-align: right;\">\n",
       "      <th></th>\n",
       "      <th>Title</th>\n",
       "      <th>Duration</th>\n",
       "      <th>URL</th>\n",
       "      <th>Description</th>\n",
       "      <th>Rating Value</th>\n",
       "    </tr>\n",
       "  </thead>\n",
       "  <tbody>\n",
       "    <tr>\n",
       "      <th>0</th>\n",
       "      <td>The Shawshank Redemption</td>\n",
       "      <td>PT2H22M</td>\n",
       "      <td>https://www.imdb.com/title/tt0111161/</td>\n",
       "      <td>A banker convicted of uxoricide forms a friend...</td>\n",
       "      <td>9.3</td>\n",
       "    </tr>\n",
       "    <tr>\n",
       "      <th>1</th>\n",
       "      <td>The Godfather</td>\n",
       "      <td>PT2H55M</td>\n",
       "      <td>https://www.imdb.com/title/tt0068646/</td>\n",
       "      <td>The aging patriarch of an organized crime dyna...</td>\n",
       "      <td>9.2</td>\n",
       "    </tr>\n",
       "    <tr>\n",
       "      <th>2</th>\n",
       "      <td>The Dark Knight</td>\n",
       "      <td>PT2H32M</td>\n",
       "      <td>https://www.imdb.com/title/tt0468569/</td>\n",
       "      <td>When a menace known as the Joker wreaks havoc ...</td>\n",
       "      <td>9.0</td>\n",
       "    </tr>\n",
       "    <tr>\n",
       "      <th>3</th>\n",
       "      <td>The Godfather Part II</td>\n",
       "      <td>PT3H22M</td>\n",
       "      <td>https://www.imdb.com/title/tt0071562/</td>\n",
       "      <td>The early life and career of Vito Corleone in ...</td>\n",
       "      <td>9.0</td>\n",
       "    </tr>\n",
       "    <tr>\n",
       "      <th>4</th>\n",
       "      <td>12 Angry Men</td>\n",
       "      <td>PT1H36M</td>\n",
       "      <td>https://www.imdb.com/title/tt0050083/</td>\n",
       "      <td>The jury in a New York City murder trial is fr...</td>\n",
       "      <td>9.0</td>\n",
       "    </tr>\n",
       "  </tbody>\n",
       "</table>\n",
       "</div>"
      ],
      "text/plain": [
       "                      Title Duration                                    URL  \\\n",
       "0  The Shawshank Redemption  PT2H22M  https://www.imdb.com/title/tt0111161/   \n",
       "1             The Godfather  PT2H55M  https://www.imdb.com/title/tt0068646/   \n",
       "2           The Dark Knight  PT2H32M  https://www.imdb.com/title/tt0468569/   \n",
       "3     The Godfather Part II  PT3H22M  https://www.imdb.com/title/tt0071562/   \n",
       "4              12 Angry Men  PT1H36M  https://www.imdb.com/title/tt0050083/   \n",
       "\n",
       "                                         Description  Rating Value  \n",
       "0  A banker convicted of uxoricide forms a friend...           9.3  \n",
       "1  The aging patriarch of an organized crime dyna...           9.2  \n",
       "2  When a menace known as the Joker wreaks havoc ...           9.0  \n",
       "3  The early life and career of Vito Corleone in ...           9.0  \n",
       "4  The jury in a New York City murder trial is fr...           9.0  "
      ]
     },
     "execution_count": 10,
     "metadata": {},
     "output_type": "execute_result"
    }
   ],
   "source": [
    "df.head()"
   ]
  },
  {
   "cell_type": "markdown",
   "id": "db033c66",
   "metadata": {},
   "source": [
    "**STEP 4: Data Cleaning and Transformation**"
   ]
  },
  {
   "cell_type": "code",
   "execution_count": 11,
   "id": "de04bea1",
   "metadata": {},
   "outputs": [
    {
     "name": "stdout",
     "output_type": "stream",
     "text": [
      "Total number of NaN values:\n",
      " Title           0\n",
      "Duration        0\n",
      "URL             0\n",
      "Description     0\n",
      "Rating Value    0\n",
      "dtype: int64\n"
     ]
    }
   ],
   "source": [
    "# Count None values per row\n",
    "nan_counts = df.isna().sum(axis=1)\n",
    "print(f\"Total number of NaN values:\\n {df.isna().sum()}\")"
   ]
  },
  {
   "cell_type": "code",
   "execution_count": 12,
   "id": "d6368078",
   "metadata": {},
   "outputs": [
    {
     "name": "stdout",
     "output_type": "stream",
     "text": [
      "Total number of null values:\n",
      " Title           0\n",
      "Duration        0\n",
      "URL             0\n",
      "Description     0\n",
      "Rating Value    0\n",
      "dtype: int64\n"
     ]
    }
   ],
   "source": [
    "# Count Null values per row\n",
    "nan_counts = df.isnull().sum(axis=1)\n",
    "print(f\"Total number of null values:\\n {df.isnull().sum()}\")"
   ]
  },
  {
   "cell_type": "code",
   "execution_count": 13,
   "id": "4820eb34",
   "metadata": {},
   "outputs": [
    {
     "name": "stdout",
     "output_type": "stream",
     "text": [
      "There are 0 duplicate entries.\n"
     ]
    }
   ],
   "source": [
    "# Check for duplicate values\n",
    "duplicates = df.duplicated(keep=False)\n",
    "df.duplicated().sum()\n",
    "print(f\"There are {df.duplicated().sum()} duplicate entries.\")"
   ]
  },
  {
   "cell_type": "code",
   "execution_count": 14,
   "id": "ea9f5943",
   "metadata": {},
   "outputs": [],
   "source": [
    "# Data Transformation\n",
    "# Convert ISO time format into minutes only\n",
    "def convert_iso_to_minutes(iso_duration):\n",
    "    # Remove the \"PT\" prefix\n",
    "    iso_duration = iso_duration.replace(\"PT\", \"\")\n",
    " \n",
    "    # Initialize hours and minutes\n",
    "    hours = 0\n",
    "    minutes = 0\n",
    " \n",
    "    # Find the \"H\" and \"M\" components\n",
    "    if \"H\" in iso_duration:\n",
    "        hours = int(iso_duration.split(\"H\")[0])\n",
    "        iso_duration = iso_duration.split(\"H\")[1]\n",
    "    if \"M\" in iso_duration:\n",
    "        minutes = int(iso_duration.split(\"M\")[0])\n",
    " \n",
    "    # Convert hours to minutes and sum up\n",
    "    total_minutes = (hours * 60) + minutes\n",
    "    return total_minutes"
   ]
  },
  {
   "cell_type": "code",
   "execution_count": 15,
   "id": "361c2c9d",
   "metadata": {},
   "outputs": [
    {
     "data": {
      "text/html": [
       "<div>\n",
       "<style scoped>\n",
       "    .dataframe tbody tr th:only-of-type {\n",
       "        vertical-align: middle;\n",
       "    }\n",
       "\n",
       "    .dataframe tbody tr th {\n",
       "        vertical-align: top;\n",
       "    }\n",
       "\n",
       "    .dataframe thead th {\n",
       "        text-align: right;\n",
       "    }\n",
       "</style>\n",
       "<table border=\"1\" class=\"dataframe\">\n",
       "  <thead>\n",
       "    <tr style=\"text-align: right;\">\n",
       "      <th></th>\n",
       "      <th>Title</th>\n",
       "      <th>Duration</th>\n",
       "      <th>URL</th>\n",
       "      <th>Description</th>\n",
       "      <th>Rating Value</th>\n",
       "    </tr>\n",
       "  </thead>\n",
       "  <tbody>\n",
       "    <tr>\n",
       "      <th>0</th>\n",
       "      <td>The Shawshank Redemption</td>\n",
       "      <td>142</td>\n",
       "      <td>https://www.imdb.com/title/tt0111161/</td>\n",
       "      <td>A banker convicted of uxoricide forms a friend...</td>\n",
       "      <td>9.3</td>\n",
       "    </tr>\n",
       "    <tr>\n",
       "      <th>1</th>\n",
       "      <td>The Godfather</td>\n",
       "      <td>175</td>\n",
       "      <td>https://www.imdb.com/title/tt0068646/</td>\n",
       "      <td>The aging patriarch of an organized crime dyna...</td>\n",
       "      <td>9.2</td>\n",
       "    </tr>\n",
       "    <tr>\n",
       "      <th>2</th>\n",
       "      <td>The Dark Knight</td>\n",
       "      <td>152</td>\n",
       "      <td>https://www.imdb.com/title/tt0468569/</td>\n",
       "      <td>When a menace known as the Joker wreaks havoc ...</td>\n",
       "      <td>9.0</td>\n",
       "    </tr>\n",
       "    <tr>\n",
       "      <th>3</th>\n",
       "      <td>The Godfather Part II</td>\n",
       "      <td>202</td>\n",
       "      <td>https://www.imdb.com/title/tt0071562/</td>\n",
       "      <td>The early life and career of Vito Corleone in ...</td>\n",
       "      <td>9.0</td>\n",
       "    </tr>\n",
       "    <tr>\n",
       "      <th>4</th>\n",
       "      <td>12 Angry Men</td>\n",
       "      <td>96</td>\n",
       "      <td>https://www.imdb.com/title/tt0050083/</td>\n",
       "      <td>The jury in a New York City murder trial is fr...</td>\n",
       "      <td>9.0</td>\n",
       "    </tr>\n",
       "  </tbody>\n",
       "</table>\n",
       "</div>"
      ],
      "text/plain": [
       "                      Title  Duration                                    URL  \\\n",
       "0  The Shawshank Redemption       142  https://www.imdb.com/title/tt0111161/   \n",
       "1             The Godfather       175  https://www.imdb.com/title/tt0068646/   \n",
       "2           The Dark Knight       152  https://www.imdb.com/title/tt0468569/   \n",
       "3     The Godfather Part II       202  https://www.imdb.com/title/tt0071562/   \n",
       "4              12 Angry Men        96  https://www.imdb.com/title/tt0050083/   \n",
       "\n",
       "                                         Description  Rating Value  \n",
       "0  A banker convicted of uxoricide forms a friend...           9.3  \n",
       "1  The aging patriarch of an organized crime dyna...           9.2  \n",
       "2  When a menace known as the Joker wreaks havoc ...           9.0  \n",
       "3  The early life and career of Vito Corleone in ...           9.0  \n",
       "4  The jury in a New York City murder trial is fr...           9.0  "
      ]
     },
     "execution_count": 15,
     "metadata": {},
     "output_type": "execute_result"
    }
   ],
   "source": [
    "df['Duration'] = df['Duration'].apply(convert_iso_to_minutes)\n",
    "df.head()"
   ]
  },
  {
   "cell_type": "markdown",
   "id": "6fefea7e",
   "metadata": {},
   "source": [
    "**STEP 5: DATA VISUALIZATION**"
   ]
  },
  {
   "cell_type": "code",
   "execution_count": 23,
   "id": "b174f3f4",
   "metadata": {},
   "outputs": [
    {
     "data": {
      "text/plain": [
       "<Figure size 2500x1000 with 0 Axes>"
      ]
     },
     "execution_count": 23,
     "metadata": {},
     "output_type": "execute_result"
    },
    {
     "data": {
      "text/plain": [
       "<Figure size 2500x1000 with 0 Axes>"
      ]
     },
     "metadata": {},
     "output_type": "display_data"
    }
   ],
   "source": [
    "#Box plot\n",
    "plt.figure(figsize = (25,10))"
   ]
  },
  {
   "cell_type": "code",
   "execution_count": 25,
   "id": "069d835d",
   "metadata": {},
   "outputs": [
    {
     "data": {
      "text/plain": [
       "Text(0.5, 0, 'Rating')"
      ]
     },
     "execution_count": 25,
     "metadata": {},
     "output_type": "execute_result"
    },
    {
     "data": {
      "image/png": "[encoded data removed]",
      "text/plain": [
       "<Figure size 640x480 with 2 Axes>"
      ]
     },
     "metadata": {},
     "output_type": "display_data"
    }
   ],
   "source": [
    "# Box plot for  Duration \n",
    "plt.subplot(2,2,1)\n",
    "plt.boxplot(df['Duration'])\n",
    "plt.title('Box Plot of Movie Duration')\n",
    "plt.xlabel(' Duration')\n",
    " \n",
    "# Box plot for  Rating\n",
    "plt.subplot(2,2,2)\n",
    "plt.boxplot(df['Rating Value'])\n",
    "plt.title('Box Plot ofRating')\n",
    "plt.xlabel('Rating')"
   ]
  },
  {
   "cell_type": "code",
   "execution_count": 26,
   "id": "fa7e2f0d",
   "metadata": {},
   "outputs": [
    {
     "data": {
      "text/plain": [
       "Text(0, 0.5, 'Movie Duration')"
      ]
     },
     "execution_count": 26,
     "metadata": {},
     "output_type": "execute_result"
    },
    {
     "data": {
      "image/png": "[encoded data removed]",
      "text/plain": [
       "<Figure size 640x480 with 1 Axes>"
      ]
     },
     "metadata": {},
     "output_type": "display_data"
    }
   ],
   "source": [
    "# Scatter plot for Rating Value and Movie Duration\n",
    "plt.subplot(2, 2, 3)  \n",
    "plt.scatter(x=df['Rating Value'], y=df['Duration'], color='purple')\n",
    "plt.title('Movie Duration vs Audience Rating (Scatter Plot)')\n",
    "plt.xlabel('Rating Value')\n",
    "plt.ylabel('Movie Duration')"
   ]
  },
  {
   "cell_type": "code",
   "execution_count": 27,
   "id": "a892b086",
   "metadata": {},
   "outputs": [
    {
     "name": "stdout",
     "output_type": "stream",
     "text": [
      "Final data saved as 'final_IMDBmovies.csv'\n"
     ]
    }
   ],
   "source": [
    "df.to_csv('final_IMDBmovies.csv', index=False)  \n",
    "print(\"Final data saved as 'final_IMDBmovies.csv'\")     "
   ]
  },
  {
   "cell_type": "code",
   "execution_count": null,
   "id": "3cb202c4",
   "metadata": {},
   "outputs": [],
   "source": []
  }
 ],
 "metadata": {
  "kernelspec": {
   "display_name": "Python 3 (ipykernel)",
   "language": "python",
   "name": "python3"
  },
  "language_info": {
   "codemirror_mode": {
    "name": "ipython",
    "version": 3
   },
   "file_extension": ".py",
   "mimetype": "text/x-python",
   "name": "python",
   "nbconvert_exporter": "python",
   "pygments_lexer": "ipython3",
   "version": "3.13.0"
  }
 },
 "nbformat": 4,
 "nbformat_minor": 5
}
